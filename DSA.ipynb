{
 "cells": [
  {
   "cell_type": "markdown",
   "id": "0e4b79cf",
   "metadata": {},
   "source": [
    "# Binary Search"
   ]
  },
  {
   "cell_type": "code",
   "execution_count": 2,
   "id": "2c11a591",
   "metadata": {},
   "outputs": [],
   "source": [
    "## Binary Search - Recursive Approch\n",
    "def BinarySearch(arr,low,high,x):\n",
    "    # First check whether thr problem is big or small\n",
    "    # Considering this as small problem\n",
    "    if(low==high):           #small problem\n",
    "        if (arr[low]==x):\n",
    "            return low\n",
    "        else:\n",
    "            return -1      # Element is not present \n",
    "    # Big problem-> Use Divide and Conquer Algorithm\n",
    "    else:\n",
    "        mid = low+(high-low)//2\n",
    "        if (arr[mid]==x):\n",
    "            return mid\n",
    "        elif(arr[mid]<x):\n",
    "            return BinarySearch(arr,mid+1,high,x)\n",
    "        else:\n",
    "            return BinarySearch(arr,mid-1,high,x)\n",
    "        "
   ]
  },
  {
   "cell_type": "code",
   "execution_count": 3,
   "id": "1ac8bc90",
   "metadata": {},
   "outputs": [
    {
     "name": "stdout",
     "output_type": "stream",
     "text": [
      "7\n"
     ]
    }
   ],
   "source": [
    "arr = [2,5,7,12,34,56,79,80,90]\n",
    "x = 80\n",
    "n = len(arr)\n",
    "pos = BinarySearch(arr,0,n-1,x)\n",
    "print(pos)"
   ]
  },
  {
   "cell_type": "code",
   "execution_count": 4,
   "id": "7400e8e4",
   "metadata": {},
   "outputs": [],
   "source": [
    "# Binary Search - Iterative Approch\n",
    "def BinarySearch(arr,low,high,x):\n",
    "    while(low<=high):\n",
    "        #Divide the problem\n",
    "        mid = low+(high-low)//2\n",
    "        #if x is grater, ignore the left half\n",
    "        if(arr[mid]<x):\n",
    "            low = mid +1\n",
    "        #if x is smaller, ignore thr right half\n",
    "        elif(arr[mid]>x):\n",
    "            high = mid-1\n",
    "        # x is present at the mid\n",
    "        else:\n",
    "            return mid\n",
    "        # searched element not present in an array\n",
    "    return -1"
   ]
  },
  {
   "cell_type": "code",
   "execution_count": 5,
   "id": "001e86b7",
   "metadata": {},
   "outputs": [
    {
     "name": "stdout",
     "output_type": "stream",
     "text": [
      "7\n"
     ]
    }
   ],
   "source": [
    "arr = [2,5,7,12,34,56,79,80,90]\n",
    "x = 80\n",
    "n = len(arr)\n",
    "pos = BinarySearch(arr,0,n-1,x)\n",
    "print(pos)"
   ]
  },
  {
   "cell_type": "raw",
   "id": "b040012b",
   "metadata": {},
   "source": [
    "# Assignment Problem\n",
    "input: Sorted array of n dictinct element which are integer\n",
    "output:Find any element in  ana array element and it's corresponding index is same meaning array[i]=i.\n",
    "Write optimised code with its time compexity for above problem"
   ]
  },
  {
   "cell_type": "markdown",
   "id": "ba81caf6",
   "metadata": {},
   "source": [
    "# Implementation of Merge short"
   ]
  },
  {
   "cell_type": "code",
   "execution_count": 1,
   "id": "f931430c",
   "metadata": {},
   "outputs": [
    {
     "name": "stdout",
     "output_type": "stream",
     "text": [
      "Given arr is \n",
      "50 20 40 90 88 11 13 \n",
      "Sorted array is:\n",
      "11 13 20 40 50 88 90 \n"
     ]
    }
   ],
   "source": [
    "#Python program for implementation of merge sort\n",
    "def mergeSort(arr):\n",
    "    # Moving Top to Bottom in a Recursive Tree \n",
    "    if len(arr)>1:\n",
    "        # Finding the mid of the array\n",
    "        mid=len(arr)//2\n",
    "        #Dividing the array element into two halves\n",
    "        # Left subtree\n",
    "        L=arr[:mid]\n",
    "        #Right Subtree\n",
    "        R=arr[mid:]\n",
    "        #Sorting the first Half(left subtree)\n",
    "        mergeSort(L)    #Recursive Call\n",
    "        #Sorting the second Half(Right subtree)\n",
    "        mergeSort(R)    #Recursive Call\n",
    "        ##Move from Bottom to Top By applying merge procedure\n",
    "        i=j=k=0\n",
    "        #Copy data to temp array L[] and R[]\n",
    "        while i<len(L) and j<len(R):\n",
    "            if L[i]<R[j]:\n",
    "                arr[k]=L[i]\n",
    "                i += 1\n",
    "            else:\n",
    "                arr[k]=R[j]\n",
    "                j += 1\n",
    "            k += 1\n",
    "        #Cheaking if any element was left\n",
    "        while i<len(L):\n",
    "            arr[k]=L[i]\n",
    "            i += 1\n",
    "            k += 1\n",
    "                    \n",
    "        while j<len(R):\n",
    "            arr[k]=R[j]\n",
    "            j += 1\n",
    "            k += 1\n",
    "# Code to print the left\n",
    "def printList(arr):\n",
    "    for i in range(len(arr)):\n",
    "         print(arr[i],end=' ')\n",
    "    print()\n",
    "# Driver Code\n",
    "if __name__ == '__main__':\n",
    "    arr=[50,20,40,90,88,11,13]\n",
    "    print('Given arr is ',end=\"\\n\")\n",
    "    printList(arr)\n",
    "    mergeSort(arr)\n",
    "    print('Sorted array is:',end='\\n')\n",
    "    printList(arr)\n",
    "        "
   ]
  },
  {
   "cell_type": "markdown",
   "id": "517c688d",
   "metadata": {},
   "source": [
    "# Quick sort Algorithm"
   ]
  },
  {
   "cell_type": "code",
   "execution_count": 10,
   "id": "4cbaca4b",
   "metadata": {},
   "outputs": [],
   "source": [
    "def partition(arr,low,high):\n",
    "    '''\n",
    "    Partition function return an index(i) between[low,high] and modifies the array\n",
    "    in a such a ways that, if arr[i]=v all the element with an index lower than i will be less than or equal to v\n",
    "    and all the element grater than i will grater than v\n",
    "    logic: we take pivot arr[low]=p, moving index(i)=low and pointer arr[low+1=j]=q as we increse j by 1 unit we reach the end of array\n",
    "    if arr[j]<=p we increment i by i and swap (arr[i],arr[j])\n",
    "    after loop is completed we swap pivot with moving index elementbecause we know all the element up to moving index are less than or equalto pivot.\n",
    "    Time complexity O(n), n= length of input array that is n=high-low+1 and there is one loop in the function so and loop runs n times so time complexity O(n)\n",
    "    '''\n",
    "    pivot=arr[low]                       #first element as a pivot\n",
    "    i=low                                # moving index\n",
    "    for j in range(low+1,high+1):        # transversing the array to change, high+1 as range function doesn't include last element\n",
    "        if arr[j]<=pivot:                #comparing with pivot and if it is less thanor equal then swap it with moving index element\n",
    "            i+=1                         # Moving element incresed by 1\n",
    "            arr[i],arr[j]=arr[j],arr[i]  #swaping moving index element with arr[j]\n",
    "        arr[i],arr[low]=arr[low],arr[i]  #swaping pivot element with the moving index element\n",
    "        return i\n",
    "            "
   ]
  },
  {
   "cell_type": "code",
   "execution_count": 11,
   "id": "7179a302",
   "metadata": {},
   "outputs": [
    {
     "data": {
      "text/plain": [
       "0"
      ]
     },
     "execution_count": 11,
     "metadata": {},
     "output_type": "execute_result"
    }
   ],
   "source": [
    "partition([50,70,80,30,40,88,19,27,69],0,8)"
   ]
  },
  {
   "cell_type": "code",
   "execution_count": 4,
   "id": "9401e2e8",
   "metadata": {},
   "outputs": [],
   "source": [
    "def quickSort(arr,low,high): #array = arr, low=lower index of array, high= higher index of array\n",
    "    if len(arr)==1: #Small problem Time Conplexity: O(1)\n",
    "        return arr\n",
    "    if low<high:   # if length of array is not one\n",
    "        m=partition(arr,low,high) #time complexity O(n) where n=high-low+1\n",
    "        quickSort(arr,low,m-1)   #T(m-low),m=partition index,left partition recursive call\n",
    "        quickSort(arr,m+1,high)  #T(high-m),m=partition index,right partition recursive call"
   ]
  },
  {
   "cell_type": "code",
   "execution_count": 5,
   "id": "e84f4a0c",
   "metadata": {},
   "outputs": [],
   "source": [
    "import time"
   ]
  },
  {
   "cell_type": "code",
   "execution_count": 8,
   "id": "326fa07d",
   "metadata": {},
   "outputs": [
    {
     "name": "stdout",
     "output_type": "stream",
     "text": [
      "[50, 70, 30, 80, 40, 19, 88, 27, 69]\n",
      "Time taken :  0.0\n"
     ]
    }
   ],
   "source": [
    "start=time.time()\n",
    "arr=[50,70,80,30,40,88,19,27,69]\n",
    "quickSort(arr,0,8)\n",
    "end=time.time()\n",
    "print(arr)\n",
    "print(\"Time taken : \",(end-start)*1000)"
   ]
  },
  {
   "cell_type": "code",
   "execution_count": 9,
   "id": "a4276780",
   "metadata": {},
   "outputs": [
    {
     "ename": "NameError",
     "evalue": "name 'swap' is not defined",
     "output_type": "error",
     "traceback": [
      "\u001b[1;31m---------------------------------------------------------------------------\u001b[0m",
      "\u001b[1;31mNameError\u001b[0m                                 Traceback (most recent call last)",
      "\u001b[1;32m<ipython-input-9-eeafdc552bf0>\u001b[0m in \u001b[0;36m<module>\u001b[1;34m\u001b[0m\n\u001b[1;32m----> 1\u001b[1;33m \u001b[0mswap\u001b[0m\u001b[1;33m(\u001b[0m\u001b[1;36m23\u001b[0m\u001b[1;33m,\u001b[0m\u001b[1;36m34\u001b[0m\u001b[1;33m)\u001b[0m\u001b[1;33m\u001b[0m\u001b[1;33m\u001b[0m\u001b[0m\n\u001b[0m",
      "\u001b[1;31mNameError\u001b[0m: name 'swap' is not defined"
     ]
    }
   ],
   "source": [
    "swap(23,34)"
   ]
  },
  {
   "cell_type": "code",
   "execution_count": null,
   "id": "d6265963",
   "metadata": {},
   "outputs": [],
   "source": []
  }
 ],
 "metadata": {
  "kernelspec": {
   "display_name": "Python 3",
   "language": "python",
   "name": "python3"
  },
  "language_info": {
   "codemirror_mode": {
    "name": "ipython",
    "version": 3
   },
   "file_extension": ".py",
   "mimetype": "text/x-python",
   "name": "python",
   "nbconvert_exporter": "python",
   "pygments_lexer": "ipython3",
   "version": "3.8.8"
  }
 },
 "nbformat": 4,
 "nbformat_minor": 5
}
